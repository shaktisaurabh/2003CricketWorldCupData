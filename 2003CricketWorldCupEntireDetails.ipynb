{
 "cells": [
  {
   "cell_type": "code",
   "execution_count": 6,
   "id": "9818fe76",
   "metadata": {
    "scrolled": true
   },
   "outputs": [
    {
     "data": {
      "text/plain": [
       "<div style=\"width: 100%; clear:both\">\n",
       "<table style=\"float:left; width:15%; table-layout:fixed; border-style:none\">\n",
       "<tbody><tr>\n",
       "<td style=\"border-style:none\"><div style=\"text-align:right\"> 10 February 2003    <br/><small><a class=\"external text\" href=\"https://www.espncricinfo.com/series/icc-world-cup-2002-03-61124/zimbabwe-vs-namibia-2nd-match-65236/full-scorecard\" rel=\"nofollow\">Scorecard</a> </small></div>\n",
       "</td></tr></tbody></table>\n",
       "<table style=\"float:left; width:53%; table-layout:fixed; text-align:center; border-style:none\">\n",
       "<tbody><tr style=\"vertical-align:top\">\n",
       "<td style=\"width:47%; text-align:right; border-style:none\"><div><b><a href=\"/wiki/Zimbabwe_national_cricket_team\" title=\"Zimbabwe national cricket team\">Zimbabwe</a><span class=\"flagicon\"> <span class=\"mw-image-border\" typeof=\"mw:File\"><span><img alt=\"\" class=\"mw-file-element\" data-file-height=\"600\" data-file-width=\"1200\" decoding=\"async\" height=\"12\" src=\"//upload.wikimedia.org/wikipedia/commons/thumb/6/6a/Flag_of_Zimbabwe.svg/23px-Flag_of_Zimbabwe.svg.png\" srcset=\"//upload.wikimedia.org/wikipedia/commons/thumb/6/6a/Flag_of_Zimbabwe.svg/35px-Flag_of_Zimbabwe.svg.png 1.5x, //upload.wikimedia.org/wikipedia/commons/thumb/6/6a/Flag_of_Zimbabwe.svg/46px-Flag_of_Zimbabwe.svg.png 2x\" width=\"23\"/></span></span></span></b><br/>340/2 (50 overs)</div>\n",
       "</td>\n",
       "<td style=\"text-align:center; border-style:none\"><div><b>v</b></div>\n",
       "</td>\n",
       "<td style=\"width:47%; text-align:left; border-style:none\"><div><b><span class=\"flagicon\"><span class=\"mw-image-border\" typeof=\"mw:File\"><span><img alt=\"\" class=\"mw-file-element\" data-file-height=\"600\" data-file-width=\"900\" decoding=\"async\" height=\"15\" src=\"//upload.wikimedia.org/wikipedia/commons/thumb/0/00/Flag_of_Namibia.svg/23px-Flag_of_Namibia.svg.png\" srcset=\"//upload.wikimedia.org/wikipedia/commons/thumb/0/00/Flag_of_Namibia.svg/35px-Flag_of_Namibia.svg.png 1.5x, //upload.wikimedia.org/wikipedia/commons/thumb/0/00/Flag_of_Namibia.svg/45px-Flag_of_Namibia.svg.png 2x\" width=\"23\"/></span></span> </span><a href=\"/wiki/Namibia_national_cricket_team\" title=\"Namibia national cricket team\">Namibia</a></b><br/>104/5 (25.1 overs)</div>\n",
       "</td></tr>\n",
       "<tr style=\"vertical-align:top\">\n",
       "<td style=\"text-align:right; border-style:none\"><div><small><a href=\"/wiki/Craig_Wishart\" title=\"Craig Wishart\">Craig Wishart</a> 172* (151) <br/><a href=\"/wiki/Lennie_Louw\" title=\"Lennie Louw\">Lennie Louw</a> 1/60 (10 overs)</small></div>\n",
       "</td>\n",
       "<td style=\"border-style:none\">\n",
       "</td>\n",
       "<td style=\"text-align:left; border-style:none\"><div><small><a href=\"/wiki/Danie_Keulder\" title=\"Danie Keulder\">Danie Keulder</a> 27 (46) <br/><a href=\"/wiki/Guy_Whittall\" title=\"Guy Whittall\">Guy Whittall</a> 2/20 (5 overs)</small></div>\n",
       "</td></tr></tbody></table>\n",
       "<table style=\"float:right; width:32%; overflow:hidden; border-style:none\">\n",
       "<tbody><tr>\n",
       "<td style=\"border-style:none\"><div><b>Zimbabwe won by 86 runs (<a href=\"/wiki/Duckworth%E2%80%93Lewis%E2%80%93Stern_method\" title=\"Duckworth–Lewis–Stern method\">D/L method</a>)</b><small><br/> <a href=\"/wiki/Harare_Sports_Club\" title=\"Harare Sports Club\">Harare Sports Club</a>, <a href=\"/wiki/Harare\" title=\"Harare\">Harare</a> <br/>Umpires: <a href=\"/wiki/Dave_Orchard\" title=\"Dave Orchard\">Dave Orchard</a> (SA) and <a href=\"/wiki/Simon_Taufel\" title=\"Simon Taufel\">Simon Taufel</a> (Aus) <br/>Player of the match: <a href=\"/wiki/Craig_Wishart\" title=\"Craig Wishart\">Craig Wishart</a> (Zim)</small></div>\n",
       "</td></tr></tbody></table>\n",
       "<div style=\"clear:both; font-style: italic;\">\n",
       "<ul><li>Namibia won the toss and elected to field.</li>\n",
       "<li>Rain interrupted the innings of Namibia and eventually the match was called off with Zimbabwe winning by 86 runs via <a href=\"/wiki/Duckworth%E2%80%93Lewis%E2%80%93Stern_method\" title=\"Duckworth–Lewis–Stern method\">D/L method</a></li>\n",
       "<li>Points: Zimbabwe 4, Namibia 0</li></ul></div>\n",
       "</div>"
      ]
     },
     "execution_count": 6,
     "metadata": {},
     "output_type": "execute_result"
    }
   ],
   "source": [
    "anew[0]"
   ]
  },
  {
   "cell_type": "code",
   "execution_count": 51,
   "id": "9c3353e6",
   "metadata": {},
   "outputs": [
    {
     "data": {
      "text/plain": [
       "'Namibia won the toss and elected to field.'"
      ]
     },
     "execution_count": 51,
     "metadata": {},
     "output_type": "execute_result"
    }
   ],
   "source": [
    "anew[0].find_all('li')[0].text"
   ]
  },
  {
   "cell_type": "code",
   "execution_count": 49,
   "id": "4934d42a",
   "metadata": {},
   "outputs": [
    {
     "data": {
      "text/plain": [
       "'Harare Sports Club,Harare'"
      ]
     },
     "execution_count": 49,
     "metadata": {},
     "output_type": "execute_result"
    }
   ],
   "source": [
    "anew[0].find_all('td',style=\"border-style:none\")[2].find_all('a')[1].text+','+anew[0].find_all('td',style=\"border-style:none\")[2].find_all('a')[2].text"
   ]
  },
  {
   "cell_type": "code",
   "execution_count": 38,
   "id": "5def25cb",
   "metadata": {},
   "outputs": [
    {
     "data": {
      "text/plain": [
       "'Craig Wishart'"
      ]
     },
     "execution_count": 38,
     "metadata": {},
     "output_type": "execute_result"
    }
   ],
   "source": [
    "anew[0].find(string=\"Player of the match: \").find_next(\"a\").text"
   ]
  },
  {
   "cell_type": "code",
   "execution_count": 31,
   "id": "33064c07",
   "metadata": {},
   "outputs": [
    {
     "data": {
      "text/plain": [
       "'Zimbabwe won by 86 runs (D/L method)'"
      ]
     },
     "execution_count": 31,
     "metadata": {},
     "output_type": "execute_result"
    }
   ],
   "source": [
    "anew[0].find_all('td',style=\"border-style:none\")[-1].find('div').find('b').text"
   ]
  },
  {
   "cell_type": "code",
   "execution_count": 6,
   "id": "196a6290",
   "metadata": {},
   "outputs": [
    {
     "name": "stdout",
     "output_type": "stream",
     "text": [
      "yes\n"
     ]
    }
   ],
   "source": [
    "a1=\"Zimbabwe national cricket team\"\n",
    "import re \n",
    "pattern=re.compile(r\"^[a-zA-Z\\s]+cricket team\\b\")\n",
    "m1=pattern.match(a1)\n",
    "if m1:\n",
    "    print(\"yes\")\n",
    "else:\n",
    "    print(\"no\")"
   ]
  },
  {
   "cell_type": "code",
   "execution_count": 1,
   "id": "5517350e",
   "metadata": {},
   "outputs": [],
   "source": [
    "import requests\n",
    "import pandas as pd \n",
    "from bs4 import BeautifulSoup"
   ]
  },
  {
   "cell_type": "code",
   "execution_count": 2,
   "id": "65795da0",
   "metadata": {},
   "outputs": [],
   "source": [
    "headers = {\n",
    "    \"User-Agent\": \"Mozilla/5.0 (Windows NT 10.0; Win64; x64) AppleWebKit/537.36 (KHTML, like Gecko) Chrome/58.0.3029.110 Safari/537.3\"\n",
    "}\n",
    "url=\"https://en.wikipedia.org/wiki/2003_Cricket_World_Cup\""
   ]
  },
  {
   "cell_type": "code",
   "execution_count": 3,
   "id": "9c7ae599",
   "metadata": {},
   "outputs": [],
   "source": [
    "res=requests.get(url,headers=headers).text\n",
    "soup=BeautifulSoup(res,'lxml')"
   ]
  },
  {
   "cell_type": "code",
   "execution_count": 4,
   "id": "cd20d952",
   "metadata": {},
   "outputs": [
    {
     "data": {
      "text/plain": [
       "54"
      ]
     },
     "execution_count": 4,
     "metadata": {},
     "output_type": "execute_result"
    }
   ],
   "source": [
    "anew=soup.find_all('div',style=\"width: 100%; clear:both\")\n",
    "len(anew)"
   ]
  },
  {
   "cell_type": "code",
   "execution_count": 8,
   "id": "a117fd95",
   "metadata": {},
   "outputs": [
    {
     "data": {
      "text/plain": [
       "'Zimbabwe'"
      ]
     },
     "execution_count": 8,
     "metadata": {},
     "output_type": "execute_result"
    }
   ],
   "source": [
    "import re\n",
    "anew[0].find_all('a',title=re.compile(r\"^[a-zA-Z\\s]+cricket team\\b\"))[0].text"
   ]
  },
  {
   "cell_type": "code",
   "execution_count": 14,
   "id": "d10ff933",
   "metadata": {},
   "outputs": [
    {
     "data": {
      "text/plain": [
       "'10 February 2003'"
      ]
     },
     "execution_count": 14,
     "metadata": {},
     "output_type": "execute_result"
    }
   ],
   "source": [
    "import re \n",
    "anew[0].find_all('div',style=\"text-align:right\")[0].text.replace('Scorecard','').strip()"
   ]
  },
  {
   "cell_type": "code",
   "execution_count": 14,
   "id": "f07eec28",
   "metadata": {
    "scrolled": false
   },
   "outputs": [
    {
     "name": "stdout",
     "output_type": "stream",
     "text": [
      "None\n",
      "340/2 (50 overs)\n",
      "104/5 (25.1 overs)\n",
      " 1/60 (10 overs)\n",
      " 2/20 (5 overs)\n",
      " \n",
      "Umpires: \n",
      "Player of the match: \n"
     ]
    }
   ],
   "source": [
    "anew1=anew[0].find_all('br')\n",
    "# for i in anew1:\n",
    "for i in anew1:\n",
    "    print(i.find_next_sibling(text=True))\n",
    "  "
   ]
  },
  {
   "cell_type": "code",
   "execution_count": 18,
   "id": "fd407969",
   "metadata": {},
   "outputs": [
    {
     "data": {
      "text/plain": [
       "['340/2 (50 overs)',\n",
       " '104/5 (25.1 overs)',\n",
       " ' 1/60 (10 overs)',\n",
       " ' 2/20 (5 overs)',\n",
       " ' ',\n",
       " 'Umpires: ',\n",
       " 'Player of the match: ']"
      ]
     },
     "execution_count": 18,
     "metadata": {},
     "output_type": "execute_result"
    }
   ],
   "source": [
    "anew1=anew[0].find_all('br')\n",
    "amb=[]\n",
    "for i in anew1:\n",
    "    amb.append(i.find_next_sibling(text=True))\n",
    "ambn=list(filter(bool,amb))\n",
    "ambn"
   ]
  },
  {
   "cell_type": "code",
   "execution_count": 15,
   "id": "a046a681",
   "metadata": {},
   "outputs": [
    {
     "name": "stdout",
     "output_type": "stream",
     "text": [
      "['340/2 (50 overs)', '104/5 (25.1 overs)', ' 1/60 (10 overs)', ' 2/20 (5 overs)', ' ', 'Umpires: ', 'Player of the match: ']\n"
     ]
    }
   ],
   "source": [
    "amb=[]\n",
    "anew2=anew[0].find_all('br')\n",
    "for i in anew2:\n",
    "    amb.append(i.find_next_sibling(text=True))\n",
    "amb1=list(filter(bool,amb))\n",
    "print(amb1)"
   ]
  },
  {
   "cell_type": "code",
   "execution_count": 16,
   "id": "1b0be58d",
   "metadata": {},
   "outputs": [
    {
     "name": "stdout",
     "output_type": "stream",
     "text": [
      "[1, 2, 3, 4]\n"
     ]
    }
   ],
   "source": [
    "my_list = [1, None, 2, None, 3, 4, None]\n",
    "filtered_list = list(filter(bool, my_list))\n",
    "\n",
    "print(filtered_list)\n"
   ]
  },
  {
   "cell_type": "code",
   "execution_count": 22,
   "id": "0038ccd3",
   "metadata": {},
   "outputs": [
    {
     "name": "stdout",
     "output_type": "stream",
     "text": [
      "[1, 2, 3, 4]\n"
     ]
    }
   ],
   "source": [
    "my_list = [1, None, 2, None, 3, 4, None,0]\n",
    "filtered_list = list(filter(bool, my_list))\n",
    "\n",
    "print(filtered_list)\n"
   ]
  },
  {
   "cell_type": "code",
   "execution_count": 24,
   "id": "a1308dd8",
   "metadata": {},
   "outputs": [
    {
     "name": "stdout",
     "output_type": "stream",
     "text": [
      "[1, 2, 3, 4]\n"
     ]
    }
   ],
   "source": [
    "my_list = [1, None, 2, None, 3, 4, None,0,'']\n",
    "filtered_list = list(filter(bool, my_list))\n",
    "\n",
    "print(filtered_list)\n",
    "#applying bool on None, 0 and '' empty strings then 0, empty string and None gets removed"
   ]
  },
  {
   "cell_type": "code",
   "execution_count": 49,
   "id": "3c937908",
   "metadata": {},
   "outputs": [],
   "source": [
    "import pandas as pd \n",
    "anew=pd.DataFrame({\n",
    "    'date_of_match':date_of_match,\n",
    "    'team1_batfirst':team1_batfirst,\n",
    "    'team2_batsecond':team2_batsecond,\n",
    "    'team_battedfirst_score':team_battedfirst_score,\n",
    "    'team_battedsecond_score':team_battedsecond_score,\n",
    "    'results':results,\n",
    "    'player_of_the_match':player_of_the_match,\n",
    "    'venue':venue,\n",
    "    'toss_decision':toss_decision\n",
    "})\n",
    "anew.to_csv(\"D:/2003CricketWorldCupData.csv\",index=False)"
   ]
  },
  {
   "cell_type": "code",
   "execution_count": 43,
   "id": "4702291c",
   "metadata": {},
   "outputs": [],
   "source": [
    "import numpy as np \n",
    "import re\n",
    "date_of_match=[]\n",
    "team1_batfirst=[]\n",
    "team2_batsecond=[]\n",
    "team_battedfirst_score=[]\n",
    "team_battedsecond_score=[]\n",
    "results=[]\n",
    "player_of_the_match=[]\n",
    "venue=[]\n",
    "toss_decision=[]\n",
    "for i in anew:\n",
    "    try:\n",
    "        date_of_match.append(i.find_all('div',style=\"text-align:right\")[0].text.replace('Scorecard','').strip())\n",
    "    except:\n",
    "        date_of_match.append(np.nan)\n",
    "    try:\n",
    "        team1_batfirst.append(i.find_all('a',title=re.compile(r\"^[a-zA-Z\\s]+cricket team\\b\"))[0].text)\n",
    "    except:\n",
    "        team1_batfirst.append(np.nan)\n",
    "    try:\n",
    "        team2_batsecond.append(i.find_all('a',title=re.compile(r\"^[a-zA-Z\\s]+cricket team\\b\"))[1].text)\n",
    "    except:\n",
    "        team2_batsecond.append(np.nan)\n",
    "    try:\n",
    "        anew1=i.find_all('br')\n",
    "        amb=[]\n",
    "        for i1 in anew1:\n",
    "            amb.append(i1.find_next_sibling(text=True))\n",
    "        ambn=list(filter(bool,amb))\n",
    "        team_battedfirst_score.append(ambn[0])\n",
    "        team_battedsecond_score.append(ambn[1])\n",
    "    except:\n",
    "        team_battedfirst_score.append(np.nan)\n",
    "        team_battedsecond_score.append(np.nan)\n",
    "    try:\n",
    "        results.append(i.find_all('td',style=\"border-style:none\")[-1].find('div').find('b').text)\n",
    "    except:\n",
    "        results.append(np.nan)\n",
    "    try:\n",
    "        player_of_the_match.append(i.find(string=\"Player of the match: \").find_next(\"a\").text)\n",
    "    except:\n",
    "        player_of_the_match.append(np.nan) \n",
    "    try:\n",
    "        venue.append(i.find_all('td',style=\"border-style:none\")[2].find_all('a')[0].text+','+i.find_all('td',style=\"border-style:none\")[2].find_all('a')[1].text)\n",
    "    except:\n",
    "        venue.append(np.nan)\n",
    "    try:\n",
    "        toss_decision.append(i.find_all('li')[0].text)\n",
    "    except:\n",
    "        toss_decision.append(np.nan)\n",
    "        \n",
    "        \n",
    "        "
   ]
  },
  {
   "cell_type": "code",
   "execution_count": 46,
   "id": "6029c66a",
   "metadata": {},
   "outputs": [
    {
     "data": {
      "text/plain": [
       "['Namibia won the toss and elected to field.',\n",
       " 'Pakistan won the toss elected to field.',\n",
       " 'India won the toss and elected to bat.',\n",
       " 'No toss',\n",
       " 'India won the toss and elected to bat.',\n",
       " 'England won the toss and elected to field.',\n",
       " 'Pakistan won the toss and elected to bat.',\n",
       " 'Zimbabwe won the toss and elected to field.',\n",
       " 'Namibia won the toss and elected to field.',\n",
       " 'Netherlands won the toss elected to field.',\n",
       " 'England won the toss and elected to bat.',\n",
       " 'Namibia won the toss and elected to field.',\n",
       " 'Zimbabwe won the toss and elected to bat.',\n",
       " 'Netherlands won the toss and elected to field.',\n",
       " 'India won the toss and elected to bat.',\n",
       " 'Australia won the toss and elected to bat.',\n",
       " 'Netherlands won the toss and elected to field.',\n",
       " 'Pakistan won the toss and elected to bat.',\n",
       " 'England won the toss and elected to bat.',\n",
       " 'Netherlands won the toss and elected to bat.',\n",
       " 'Pakistan won the toss and elected to bat.',\n",
       " 'West Indies won the toss and elected to bat.',\n",
       " 'New Zealand won the toss and elected to field.',\n",
       " 'Canada won the toss and elected to bat.',\n",
       " 'Kenya won the toss and elected to bat.',\n",
       " 'West Indies won the toss and elected to field.',\n",
       " 'Sri Lanka won the toss and elected to field.',\n",
       " 'Canada won the toss and elected to bat.',\n",
       " 'South Africa won the toss elected to bat.',\n",
       " 'Bangladesh won the toss and elected to field.',\n",
       " 'Sri Lanka won the toss and elected to field.',\n",
       " 'No toss',\n",
       " 'South Africa won the toss and elected to field.',\n",
       " 'West Indies won the toss and elected to field.',\n",
       " 'Sri Lanka won the toss and elected to field.',\n",
       " 'Bangladesh won the toss elected to bat.',\n",
       " 'Canada won the toss elected to field.',\n",
       " 'Sri Lanka won the toss and elected to bat.',\n",
       " 'Kenya won the toss and elected to field.',\n",
       " 'New Zealand won the toss elected to field.',\n",
       " 'Sri Lanka won the toss and elected to bat.',\n",
       " 'West Indies won the toss and elected to bat.',\n",
       " 'Australia won the toss and elected to bat.',\n",
       " 'Kenya won the toss and elected to bat.',\n",
       " 'Zimbabwe won the toss and elected to bat.',\n",
       " 'Sri Lanka won the toss and elected to field.',\n",
       " 'New Zealand won the toss and elected to field.',\n",
       " 'Zimbabwe won the toss and elected to bat.',\n",
       " 'India won the toss and elected to field.',\n",
       " 'Sri Lanka won the toss and elected to bat.',\n",
       " 'Australia won the toss and elected to field.',\n",
       " 'Australia won the toss and elected to bat.',\n",
       " 'India won the toss and elected to bat.',\n",
       " 'India won the toss and elected to field.  ']"
      ]
     },
     "execution_count": 46,
     "metadata": {},
     "output_type": "execute_result"
    }
   ],
   "source": [
    "toss_decision"
   ]
  },
  {
   "cell_type": "code",
   "execution_count": 12,
   "id": "b83e8dec",
   "metadata": {
    "scrolled": true
   },
   "outputs": [
    {
     "data": {
      "text/plain": [
       "<div style=\"width: 100%; clear:both\">\n",
       "<table style=\"float:left; width:15%; table-layout:fixed; border-style:none\">\n",
       "<tbody><tr>\n",
       "<td style=\"border-style:none\"><div style=\"text-align:right\"> 11 February 2003    <br/><small><a class=\"external text\" href=\"https://www.espncricinfo.com/series/icc-world-cup-2002-03-61124/australia-vs-pakistan-4th-match-65238/full-scorecard\" rel=\"nofollow\">Scorecard</a> </small></div>\n",
       "</td></tr></tbody></table>\n",
       "<table style=\"float:left; width:53%; table-layout:fixed; text-align:center; border-style:none\">\n",
       "<tbody><tr style=\"vertical-align:top\">\n",
       "<td style=\"width:47%; text-align:right; border-style:none\"><div><b><a href=\"/wiki/Australia_national_cricket_team\" title=\"Australia national cricket team\">Australia</a><span class=\"flagicon\"> <span class=\"mw-image-border\" typeof=\"mw:File\"><span><img alt=\"\" class=\"mw-file-element\" data-file-height=\"640\" data-file-width=\"1280\" decoding=\"async\" height=\"12\" src=\"//upload.wikimedia.org/wikipedia/commons/thumb/8/88/Flag_of_Australia_%28converted%29.svg/23px-Flag_of_Australia_%28converted%29.svg.png\" srcset=\"//upload.wikimedia.org/wikipedia/commons/thumb/8/88/Flag_of_Australia_%28converted%29.svg/35px-Flag_of_Australia_%28converted%29.svg.png 1.5x, //upload.wikimedia.org/wikipedia/commons/thumb/8/88/Flag_of_Australia_%28converted%29.svg/46px-Flag_of_Australia_%28converted%29.svg.png 2x\" width=\"23\"/></span></span></span></b><br/>310/8 (50 overs)</div>\n",
       "</td>\n",
       "<td style=\"text-align:center; border-style:none\"><div><b>v</b></div>\n",
       "</td>\n",
       "<td style=\"width:47%; text-align:left; border-style:none\"><div><b><span class=\"flagicon\"><span class=\"mw-image-border\" typeof=\"mw:File\"><span><img alt=\"\" class=\"mw-file-element\" data-file-height=\"600\" data-file-width=\"900\" decoding=\"async\" height=\"15\" src=\"//upload.wikimedia.org/wikipedia/commons/thumb/3/32/Flag_of_Pakistan.svg/23px-Flag_of_Pakistan.svg.png\" srcset=\"//upload.wikimedia.org/wikipedia/commons/thumb/3/32/Flag_of_Pakistan.svg/35px-Flag_of_Pakistan.svg.png 1.5x, //upload.wikimedia.org/wikipedia/commons/thumb/3/32/Flag_of_Pakistan.svg/45px-Flag_of_Pakistan.svg.png 2x\" width=\"23\"/></span></span> </span><a href=\"/wiki/Pakistan_national_cricket_team\" title=\"Pakistan national cricket team\">Pakistan</a></b><br/>228 (44.3 overs)</div>\n",
       "</td></tr>\n",
       "<tr style=\"vertical-align:top\">\n",
       "<td style=\"text-align:right; border-style:none\"><div><small><a href=\"/wiki/Andrew_Symonds\" title=\"Andrew Symonds\">Andrew Symonds</a> 143* (125) <br/><a href=\"/wiki/Wasim_Akram\" title=\"Wasim Akram\">Wasim Akram</a> 3/64 (10 overs)</small></div>\n",
       "</td>\n",
       "<td style=\"border-style:none\">\n",
       "</td>\n",
       "<td style=\"text-align:left; border-style:none\"><div><small><a href=\"/wiki/Rashid_Latif\" title=\"Rashid Latif\">Rashid Latif</a> 33 (23) <br/><a href=\"/wiki/Ian_Harvey\" title=\"Ian Harvey\">Ian Harvey</a> 4/58 (9.3 overs)</small></div>\n",
       "</td></tr></tbody></table>\n",
       "<table style=\"float:right; width:32%; overflow:hidden; border-style:none\">\n",
       "<tbody><tr>\n",
       "<td style=\"border-style:none\"><div><b>Australia won by 82 runs</b><small><br/> <a href=\"/wiki/Wanderers_Stadium\" title=\"Wanderers Stadium\">Wanderers Stadium</a>, <a href=\"/wiki/Johannesburg\" title=\"Johannesburg\">Johannesburg</a> <br/>Umpires: <a href=\"/wiki/Asoka_de_Silva_(cricketer)\" title=\"Asoka de Silva (cricketer)\">Asoka de Silva</a> (SL) and <a href=\"/wiki/David_Shepherd_(umpire)\" title=\"David Shepherd (umpire)\">David Shepherd</a> (Eng) <br/>Player of the match: <a href=\"/wiki/Andrew_Symonds\" title=\"Andrew Symonds\">Andrew Symonds</a> (Aus)</small></div>\n",
       "</td></tr></tbody></table>\n",
       "<div style=\"clear:both; font-style: italic;\">\n",
       "<ul><li>Pakistan won the toss elected to field.</li>\n",
       "<li>Points: Australia 4, Pakistan 0</li>\n",
       "<li>Pakistan were fined 1 over for a slow over rate.</li></ul></div>\n",
       "</div>"
      ]
     },
     "execution_count": 12,
     "metadata": {},
     "output_type": "execute_result"
    }
   ],
   "source": [
    "anew[1]"
   ]
  },
  {
   "cell_type": "code",
   "execution_count": 34,
   "id": "e42f2188",
   "metadata": {},
   "outputs": [
    {
     "data": {
      "text/plain": [
       "'D/L method,Senwes Park'"
      ]
     },
     "execution_count": 34,
     "metadata": {},
     "output_type": "execute_result"
    }
   ],
   "source": [
    "anew[9].find_all('td',style=\"border-style:none\")[-1].find_all('a')[1].txt+','+anew[9].find_all('td',style=\"border-style:none\")[-1].find_all('a')[1].text"
   ]
  },
  {
   "cell_type": "code",
   "execution_count": 39,
   "id": "4473f579",
   "metadata": {},
   "outputs": [
    {
     "data": {
      "text/plain": [
       "'Johannesburg,Asoka de Silva'"
      ]
     },
     "execution_count": 39,
     "metadata": {},
     "output_type": "execute_result"
    }
   ],
   "source": [
    "anew[1].find_all('td',style=\"border-style:none\")[-1].find_all('a')[1].text+','+anew[1].find_all('td',style=\"border-style:none\")[-1].find_all('a')[2].text"
   ]
  },
  {
   "cell_type": "code",
   "execution_count": 40,
   "id": "57b8d2ed",
   "metadata": {},
   "outputs": [
    {
     "data": {
      "text/plain": [
       "[<a href=\"/wiki/Wanderers_Stadium\" title=\"Wanderers Stadium\">Wanderers Stadium</a>,\n",
       " <a href=\"/wiki/Johannesburg\" title=\"Johannesburg\">Johannesburg</a>,\n",
       " <a href=\"/wiki/Asoka_de_Silva_(cricketer)\" title=\"Asoka de Silva (cricketer)\">Asoka de Silva</a>,\n",
       " <a href=\"/wiki/David_Shepherd_(umpire)\" title=\"David Shepherd (umpire)\">David Shepherd</a>,\n",
       " <a href=\"/wiki/Andrew_Symonds\" title=\"Andrew Symonds\">Andrew Symonds</a>]"
      ]
     },
     "execution_count": 40,
     "metadata": {},
     "output_type": "execute_result"
    }
   ],
   "source": [
    "anew[1].find_all('td',style=\"border-style:none\")[-1].find_all('a')"
   ]
  },
  {
   "cell_type": "code",
   "execution_count": 42,
   "id": "1cd148f1",
   "metadata": {},
   "outputs": [
    {
     "data": {
      "text/plain": [
       "<td style=\"border-style:none\"><div><b>Zimbabwe won by 86 runs (<a href=\"/wiki/Duckworth%E2%80%93Lewis%E2%80%93Stern_method\" title=\"Duckworth–Lewis–Stern method\">D/L method</a>)</b><small><br/> <a href=\"/wiki/Harare_Sports_Club\" title=\"Harare Sports Club\">Harare Sports Club</a>, <a href=\"/wiki/Harare\" title=\"Harare\">Harare</a> <br/>Umpires: <a href=\"/wiki/Dave_Orchard\" title=\"Dave Orchard\">Dave Orchard</a> (SA) and <a href=\"/wiki/Simon_Taufel\" title=\"Simon Taufel\">Simon Taufel</a> (Aus) <br/>Player of the match: <a href=\"/wiki/Craig_Wishart\" title=\"Craig Wishart\">Craig Wishart</a> (Zim)</small></div>\n",
       "</td>"
      ]
     },
     "execution_count": 42,
     "metadata": {},
     "output_type": "execute_result"
    }
   ],
   "source": [
    "anew[0].find_all('td',style=\"border-style:none\")[-1]"
   ]
  },
  {
   "cell_type": "code",
   "execution_count": 36,
   "id": "15992600",
   "metadata": {
    "scrolled": true
   },
   "outputs": [
    {
     "data": {
      "text/plain": [
       "[<a href=\"/wiki/Duckworth%E2%80%93Lewis%E2%80%93Stern_method\" title=\"Duckworth–Lewis–Stern method\">D/L method</a>,\n",
       " <a class=\"mw-redirect\" href=\"/wiki/Senwes_Park\" title=\"Senwes Park\">Senwes Park</a>,\n",
       " <a href=\"/wiki/Potchefstroom\" title=\"Potchefstroom\">Potchefstroom</a>,\n",
       " <a href=\"/wiki/Dave_Orchard\" title=\"Dave Orchard\">Dave Orchard</a>,\n",
       " <a href=\"/wiki/Peter_Willey\" title=\"Peter Willey\">Peter Willey</a>,\n",
       " <a href=\"/wiki/Damien_Martyn\" title=\"Damien Martyn\">Damien Martyn</a>]"
      ]
     },
     "execution_count": 36,
     "metadata": {},
     "output_type": "execute_result"
    }
   ],
   "source": [
    "anew[9].find_all('td',style=\"border-style:none\")[-1].find_all('a')"
   ]
  },
  {
   "cell_type": "code",
   "execution_count": 32,
   "id": "b6cb8265",
   "metadata": {},
   "outputs": [
    {
     "data": {
      "text/plain": [
       "<div style=\"width: 100%; clear:both\">\n",
       "<table style=\"float:left; width:15%; table-layout:fixed; border-style:none\">\n",
       "<tbody><tr>\n",
       "<td style=\"border-style:none\"><div style=\"text-align:right\"> 19 February 2003    <br/><small><a class=\"external text\" href=\"https://www.espncricinfo.com/series/icc-world-cup-2002-03-61124/england-vs-namibia-19th-match-65252/full-scorecard\" rel=\"nofollow\">Scorecard</a> </small></div>\n",
       "</td></tr></tbody></table>\n",
       "<table style=\"float:left; width:53%; table-layout:fixed; text-align:center; border-style:none\">\n",
       "<tbody><tr style=\"vertical-align:top\">\n",
       "<td style=\"width:47%; text-align:right; border-style:none\"><div><b><a href=\"/wiki/England_cricket_team\" title=\"England cricket team\">England</a><span class=\"flagicon\"> <span class=\"mw-image-border\" typeof=\"mw:File\"><span><img alt=\"\" class=\"mw-file-element\" data-file-height=\"480\" data-file-width=\"800\" decoding=\"async\" height=\"14\" src=\"//upload.wikimedia.org/wikipedia/en/thumb/b/be/Flag_of_England.svg/23px-Flag_of_England.svg.png\" srcset=\"//upload.wikimedia.org/wikipedia/en/thumb/b/be/Flag_of_England.svg/35px-Flag_of_England.svg.png 1.5x, //upload.wikimedia.org/wikipedia/en/thumb/b/be/Flag_of_England.svg/46px-Flag_of_England.svg.png 2x\" width=\"23\"/></span></span></span></b><br/>272 (50 overs)</div>\n",
       "</td>\n",
       "<td style=\"text-align:center; border-style:none\"><div><b>v</b></div>\n",
       "</td>\n",
       "<td style=\"width:47%; text-align:left; border-style:none\"><div><b><span class=\"flagicon\"><span class=\"mw-image-border\" typeof=\"mw:File\"><span><img alt=\"\" class=\"mw-file-element\" data-file-height=\"600\" data-file-width=\"900\" decoding=\"async\" height=\"15\" src=\"//upload.wikimedia.org/wikipedia/commons/thumb/0/00/Flag_of_Namibia.svg/23px-Flag_of_Namibia.svg.png\" srcset=\"//upload.wikimedia.org/wikipedia/commons/thumb/0/00/Flag_of_Namibia.svg/35px-Flag_of_Namibia.svg.png 1.5x, //upload.wikimedia.org/wikipedia/commons/thumb/0/00/Flag_of_Namibia.svg/45px-Flag_of_Namibia.svg.png 2x\" width=\"23\"/></span></span> </span><a href=\"/wiki/Namibia_national_cricket_team\" title=\"Namibia national cricket team\">Namibia</a></b><br/>217/9 (50 overs)</div>\n",
       "</td></tr>\n",
       "<tr style=\"vertical-align:top\">\n",
       "<td style=\"text-align:right; border-style:none\"><div><small><a href=\"/wiki/Alec_Stewart\" title=\"Alec Stewart\">Alec Stewart</a> 60 (77) <br/><a class=\"mw-redirect\" href=\"/wiki/Rudi_van_Vuuren\" title=\"Rudi van Vuuren\">Rudi van Vuuren</a> 5/43 (10 overs)</small></div>\n",
       "</td>\n",
       "<td style=\"border-style:none\">\n",
       "</td>\n",
       "<td style=\"text-align:left; border-style:none\"><div><small><a class=\"mw-redirect\" href=\"/wiki/Jan-Berrie_Burger\" title=\"Jan-Berrie Burger\">Jan-Berrie Burger</a> 85 (86) <br/><a href=\"/wiki/Ronnie_Irani\" title=\"Ronnie Irani\">Ronnie Irani</a> 3/30 (8 overs)</small></div>\n",
       "</td></tr></tbody></table>\n",
       "<table style=\"float:right; width:32%; overflow:hidden; border-style:none\">\n",
       "<tbody><tr>\n",
       "<td style=\"border-style:none\"><div><b>England won by 55 runs</b><small><br/> <a href=\"/wiki/St_George%27s_Park_Cricket_Ground\" title=\"St George's Park Cricket Ground\">St George's Park Cricket Ground</a>, <a class=\"mw-redirect\" href=\"/wiki/Port_Elizabeth\" title=\"Port Elizabeth\">Port Elizabeth</a> <br/>Umpires: <a href=\"/wiki/Simon_Taufel\" title=\"Simon Taufel\">Simon Taufel</a> (Aus) and <a href=\"/wiki/Srinivasaraghavan_Venkataraghavan\" title=\"Srinivasaraghavan Venkataraghavan\">S Venkataraghavan</a> (Ind) <br/>Player of the match: <a class=\"mw-redirect\" href=\"/wiki/Jan-Berrie_Burger\" title=\"Jan-Berrie Burger\">Jan-Berrie Burger</a> (Nam)</small></div>\n",
       "</td></tr></tbody></table>\n",
       "<div style=\"clear:both; font-style: italic;\">\n",
       "<ul><li>Namibia won the toss and elected to field.</li>\n",
       "<li>Points: England 4, Namibia 0</li></ul></div>\n",
       "</div>"
      ]
     },
     "execution_count": 32,
     "metadata": {},
     "output_type": "execute_result"
    }
   ],
   "source": [
    "anew[8]"
   ]
  },
  {
   "cell_type": "code",
   "execution_count": 44,
   "id": "c6fcb676",
   "metadata": {
    "scrolled": true
   },
   "outputs": [
    {
     "data": {
      "text/plain": [
       "['D/L method,Harare Sports Club',\n",
       " 'Wanderers Stadium,Johannesburg',\n",
       " 'Boland Park,Paarl',\n",
       " 'Harare Sports Club,Harare',\n",
       " 'Centurion Park,Centurion',\n",
       " 'Buffalo Park,East London',\n",
       " 'De Beers Diamond Oval,Kimberley',\n",
       " 'Harare Sports Club,Harare',\n",
       " \"St George's Park Cricket Ground,Port Elizabeth\",\n",
       " 'D/L method,Senwes Park',\n",
       " 'Newlands Cricket Ground,Cape Town',\n",
       " 'City Oval,Pietermaritzburg',\n",
       " 'Queens Sports Club,Bulawayo',\n",
       " 'Boland Park,Paarl',\n",
       " 'Kingsmead Cricket Ground,Durban',\n",
       " 'Senwes Park,Potchefstroom',\n",
       " 'Queens Sports Club,Bulawayo',\n",
       " 'Centurion Park,Centurion',\n",
       " \"St George's Park Cricket Ground,Port Elizabeth\",\n",
       " 'Goodyear Park,Bloemfontein',\n",
       " 'Queens Sports Club,Bulawayo',\n",
       " 'Newlands Cricket Ground,Cape Town',\n",
       " 'Goodyear Park,Bloemfontein',\n",
       " 'Kingsmead Cricket Ground,Durban',\n",
       " 'North West Cricket Stadium,Potchefstroom',\n",
       " \"St George's Park Cricket Ground,Port Elizabeth\",\n",
       " 'City Oval,Pietermaritzburg',\n",
       " 'Newlands Cricket Ground,Cape Town',\n",
       " 'D/L method,New Wanderers Stadium',\n",
       " 'Willowmoore Park,Benoni',\n",
       " 'Boland Park,Paarl',\n",
       " 'Nairobi Gymkhana Club,Nairobi',\n",
       " 'Goodyear Park,Bloemfontein',\n",
       " 'Newlands Cricket Ground,Cape Town',\n",
       " 'Nairobi Gymkhana Club,Nairobi',\n",
       " 'De Beers Diamond Oval,Kimberley',\n",
       " 'Buffalo Park,East London',\n",
       " 'Newlands Cricket Ground,Cape Town',\n",
       " 'New Wanderers Stadium,Johannesburg',\n",
       " 'Willowmoore Park,Benoni',\n",
       " 'D/L method,Kingsmead Cricket Ground',\n",
       " 'De Beers Diamond Oval,Kimberley',\n",
       " 'Centurion Park,Centurion',\n",
       " 'Newlands Cricket Ground,Cape Town',\n",
       " 'Goodyear Park,Bloemfontein',\n",
       " 'Wanderers Stadium,Johannesburg',\n",
       " \"St George's Park Cricket Ground,Port Elizabeth\",\n",
       " 'Goodyear Park,Bloemfontein',\n",
       " 'Centurion Park,Centurion',\n",
       " 'Goodyear Park,Bloemfontein',\n",
       " 'Kingsmead Cricket Ground,Durban',\n",
       " \"D/L method,St George's Park Cricket Ground\",\n",
       " 'Kingsmead Cricket Ground,Durban',\n",
       " 'Wanderers Stadium,Johannesburg']"
      ]
     },
     "execution_count": 44,
     "metadata": {},
     "output_type": "execute_result"
    }
   ],
   "source": [
    "venue"
   ]
  },
  {
   "cell_type": "code",
   "execution_count": 7,
   "id": "781414ae",
   "metadata": {},
   "outputs": [
    {
     "data": {
      "text/plain": [
       "['104/5 (25.1 overs)',\n",
       " '228 (44.3 overs)',\n",
       " '136 (48.1 overs)',\n",
       " 'Umpires: ',\n",
       " '128/1 (22.2 overs)',\n",
       " '144/4 (23.2 overs)',\n",
       " '84 (17.4 overs)',\n",
       " '172 (44.4 overs)',\n",
       " '217/9 (50 overs)',\n",
       " '122 (30.2 overs)',\n",
       " '134 (31 overs)',\n",
       " '130 (42.3 overs)',\n",
       " '248/3 (47.3 overs)',\n",
       " '156 (39.3 overs)',\n",
       " '168 (45.3 overs)',\n",
       " '45 (14 overs)',\n",
       " '202/9 (50 overs)',\n",
       " '276/4 (45.4 overs)',\n",
       " '208/8 (49.4 overs)',\n",
       " '250 (46.5 overs)',\n",
       " ' 1/25 (7 overs)',\n",
       " '275/9 (49 overs)',\n",
       " '225 (45.3 overs)',\n",
       " '120 (28 overs)',\n",
       " '142/0 (21.2 overs)',\n",
       " '221 (49.4 overs)',\n",
       " '126/0 (21.1 overs)',\n",
       " '198/6 (48.3 overs)',\n",
       " '229/1 (36.5 overs)',\n",
       " '32/2 (8.1 overs)',\n",
       " '37/1 (4.4 overs)',\n",
       " 'Umpires: ',\n",
       " '109/0 (12 overs)',\n",
       " '206/3 (20.3 overs)',\n",
       " '157 (45 overs)',\n",
       " '199/3 (33.3 overs)',\n",
       " '136/5 (50 overs)',\n",
       " '222/9 (50 overs)',\n",
       " '185 (47.2 overs)',\n",
       " '197/5 (23 overs)',\n",
       " '229/6 (45 overs)',\n",
       " '104 (35.5 overs)',\n",
       " '223 (47.4 overs)',\n",
       " '226/4 (47.5 overs)',\n",
       " '253/4 (47.2 overs)',\n",
       " '109 (23 overs)',\n",
       " '112 (30.1 overs)',\n",
       " '135/3 (26 overs)',\n",
       " '150/3 (40.4 overs)',\n",
       " '182 (41.5 overs)',\n",
       " '178/5 (31.2 overs)',\n",
       " '123/7 (38.1 overs)',\n",
       " '179 (46.2 overs)',\n",
       " '234 (39.2 overs)']"
      ]
     },
     "execution_count": 7,
     "metadata": {},
     "output_type": "execute_result"
    }
   ],
   "source": [
    "team_battedsecond_score"
   ]
  },
  {
   "cell_type": "code",
   "execution_count": 45,
   "id": "ddf74d9e",
   "metadata": {},
   "outputs": [
    {
     "data": {
      "text/plain": [
       "['104/5 (25.1 overs)',\n",
       " '228 (44.3 overs)',\n",
       " '136 (48.1 overs)',\n",
       " '',\n",
       " '128/1 (22.2 overs)',\n",
       " '144/4 (23.2 overs)',\n",
       " '84 (17.4 overs)',\n",
       " '172 (44.4 overs)',\n",
       " '217/9 (50 overs)',\n",
       " '122 (30.2 overs)',\n",
       " '134 (31 overs)',\n",
       " '130 (42.3 overs)',\n",
       " '248/3 (47.3 overs)',\n",
       " '156 (39.3 overs)',\n",
       " '168 (45.3 overs)',\n",
       " '45 (14 overs)',\n",
       " '202/9 (50 overs)',\n",
       " '276/4 (45.4 overs)',\n",
       " '208/8 (49.4 overs)',\n",
       " '250 (46.5 overs)',\n",
       " '',\n",
       " '275/9 (49 overs)',\n",
       " '225 (45.3 overs)',\n",
       " '120 (28 overs)',\n",
       " '142/0 (21.2 overs)',\n",
       " '221 (49.4 overs)',\n",
       " '126/0 (21.1 overs)',\n",
       " '198/6 (48.3 overs)',\n",
       " '229/1 (36.5 overs)',\n",
       " '32/2 (8.1 overs)',\n",
       " '37/1 (4.4 overs)',\n",
       " '',\n",
       " '109/0 (12 overs)',\n",
       " '206/3 (20.3 overs)',\n",
       " '157 (45 overs)',\n",
       " '199/3 (33.3 overs)',\n",
       " '136/5 (50 overs)',\n",
       " '222/9 (50 overs)',\n",
       " '185 (47.2 overs)',\n",
       " '197/5 (23 overs)',\n",
       " '229/6 (45 overs)',\n",
       " '104 (35.5 overs)',\n",
       " '223 (47.4 overs)',\n",
       " '226/4 (47.5 overs)',\n",
       " '253/4 (47.2 overs)',\n",
       " '109 (23 overs)',\n",
       " '112 (30.1 overs)',\n",
       " '135/3 (26 overs)',\n",
       " '150/3 (40.4 overs)',\n",
       " '182 (41.5 overs)',\n",
       " '178/5 (31.2 overs)',\n",
       " '123/7 (38.1 overs)',\n",
       " '179 (46.2 overs)',\n",
       " '234 (39.2 overs)']"
      ]
     },
     "execution_count": 45,
     "metadata": {},
     "output_type": "execute_result"
    }
   ],
   "source": [
    "team_battedsecond_score1=[x.replace(\" 1/25 (7 overs)\",\"\") for x in team_battedsecond_score]\n",
    "team_battedsecond_score2=[x.replace(\"Umpires: \",\"\") for x in team_battedsecond_score1] \n",
    "team_battedsecond_score2"
   ]
  },
  {
   "cell_type": "code",
   "execution_count": 47,
   "id": "51ba537e",
   "metadata": {},
   "outputs": [
    {
     "data": {
      "text/plain": [
       "['104/5 (25.1 overs)',\n",
       " '228 (44.3 overs)',\n",
       " '136 (48.1 overs)',\n",
       " '',\n",
       " '128/1 (22.2 overs)',\n",
       " '144/4 (23.2 overs)',\n",
       " '84 (17.4 overs)',\n",
       " '172 (44.4 overs)',\n",
       " '217/9 (50 overs)',\n",
       " '122 (30.2 overs)',\n",
       " '134 (31 overs)',\n",
       " '130 (42.3 overs)',\n",
       " '248/3 (47.3 overs)',\n",
       " '156 (39.3 overs)',\n",
       " '168 (45.3 overs)',\n",
       " '45 (14 overs)',\n",
       " '202/9 (50 overs)',\n",
       " '276/4 (45.4 overs)',\n",
       " '208/8 (49.4 overs)',\n",
       " '250 (46.5 overs)',\n",
       " '',\n",
       " '275/9 (49 overs)',\n",
       " '225 (45.3 overs)',\n",
       " '120 (28 overs)',\n",
       " '142/0 (21.2 overs)',\n",
       " '221 (49.4 overs)',\n",
       " '126/0 (21.1 overs)',\n",
       " '198/6 (48.3 overs)',\n",
       " '229/1 (36.5 overs)',\n",
       " '32/2 (8.1 overs)',\n",
       " '37/1 (4.4 overs)',\n",
       " '',\n",
       " '109/0 (12 overs)',\n",
       " '206/3 (20.3 overs)',\n",
       " '157 (45 overs)',\n",
       " '199/3 (33.3 overs)',\n",
       " '136/5 (50 overs)',\n",
       " '222/9 (50 overs)',\n",
       " '185 (47.2 overs)',\n",
       " '197/5 (23 overs)',\n",
       " '229/6 (45 overs)',\n",
       " '104 (35.5 overs)',\n",
       " '223 (47.4 overs)',\n",
       " '226/4 (47.5 overs)',\n",
       " '253/4 (47.2 overs)',\n",
       " '109 (23 overs)',\n",
       " '112 (30.1 overs)',\n",
       " '135/3 (26 overs)',\n",
       " '150/3 (40.4 overs)',\n",
       " '182 (41.5 overs)',\n",
       " '178/5 (31.2 overs)',\n",
       " '123/7 (38.1 overs)',\n",
       " '179 (46.2 overs)',\n",
       " '234 (39.2 overs)']"
      ]
     },
     "execution_count": 47,
     "metadata": {},
     "output_type": "execute_result"
    }
   ],
   "source": [
    "team_battedsecond_score2"
   ]
  },
  {
   "cell_type": "code",
   "execution_count": null,
   "id": "9b54c23e",
   "metadata": {},
   "outputs": [],
   "source": [
    "import pandas as pd \n",
    "aanew2=pd.DataFrame({\n",
    "    ''\n",
    "})"
   ]
  }
 ],
 "metadata": {
  "kernelspec": {
   "display_name": "Python 3 (ipykernel)",
   "language": "python",
   "name": "python3"
  },
  "language_info": {
   "codemirror_mode": {
    "name": "ipython",
    "version": 3
   },
   "file_extension": ".py",
   "mimetype": "text/x-python",
   "name": "python",
   "nbconvert_exporter": "python",
   "pygments_lexer": "ipython3",
   "version": "3.9.13"
  }
 },
 "nbformat": 4,
 "nbformat_minor": 5
}
